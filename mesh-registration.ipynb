{
 "cells": [
  {
   "cell_type": "markdown",
   "id": "severe-special",
   "metadata": {},
   "source": [
    "## The problem"
   ]
  },
  {
   "cell_type": "code",
   "execution_count": 18,
   "id": "temporal-marijuana",
   "metadata": {
    "scrolled": true
   },
   "outputs": [
    {
     "data": {
      "image/png": "[encoded data removed]",
      "text/plain": [
       "<Figure size 432x288 with 1 Axes>"
      ]
     },
     "metadata": {},
     "output_type": "display_data"
    }
   ],
   "source": [
    "%matplotlib inline\n",
    "import matplotlib.pyplot as plt\n",
    "plt.style.use('seaborn-whitegrid')\n",
    "import numpy as np\n",
    "scale = 1/300\n",
    "goal = scale * np.array([(51,184), (99,148), (121,127), (145,124), (179,144), (207,169), (251,207), (284,236), (331,257), (373,277), (426,303), (466,320), (517,333), (566,324), (597,315)])\n",
    "template = scale * np.array([(56,149), (66,125), (85,103), (114,82), (144,78), (173,87), (203,111), (234,141), (243,149), (288,174), (331,207), (367,223), (406,228), (464,225), (517,210), (545,178)])\n",
    "\n",
    "plt.plot(goal[:, 0], goal[:, 1], 'o', color='red');\n",
    "plt.plot(template[:, 0], template[:, 1], 'o', color='blue');\n"
   ]
  },
  {
   "cell_type": "markdown",
   "id": "tribal-declaration",
   "metadata": {},
   "source": [
    "A template mesh $\\mathcal{S} = (\\mathcal{V, E})$ with vertices $\\mathcal{V}$ and edges $\\mathcal{E}$ is to be deformed to match a target surface $\\mathcal{T}$. The target surface needs to be defined in such a way that we can compute a distance from a point to it."
   ]
  },
  {
   "cell_type": "markdown",
   "id": "changed-context",
   "metadata": {},
   "source": [
    "$\\mathbf{X} = [\\mathbf{X}_1 · · · \\mathbf{X}_n]^T$"
   ]
  },
  {
   "cell_type": "markdown",
   "id": "outside-creation",
   "metadata": {},
   "source": [
    "### The objective function"
   ]
  },
  {
   "cell_type": "markdown",
   "id": "typical-prevention",
   "metadata": {},
   "source": [
    "Minimize\n",
    "\n",
    "$$\n",
    "\\overline{\\boldsymbol{E}}(\\boldsymbol{X}) = \\overline{\\boldsymbol{E}}_d(\\boldsymbol{X}) + α\\boldsymbol{E}_s(\\boldsymbol{X}) + β\\boldsymbol{E}_l(\\boldsymbol{X})\n",
    "$$"
   ]
  },
  {
   "cell_type": "markdown",
   "id": "dense-briefing",
   "metadata": {},
   "source": [
    "Distance term\n",
    "\n",
    "$$\n",
    "\\boldsymbol{E}_d(\\boldsymbol{X}) = \\sum\\limits_{\\boldsymbol{v}_i \\in \\mathcal{V}} w_i \\operatorname{dist}^2(\\mathcal{T}, \\boldsymbol{X}_i\\boldsymbol{v}_i)\n",
    "$$"
   ]
  },
  {
   "cell_type": "markdown",
   "id": "collect-richardson",
   "metadata": {},
   "source": [
    "Stiffness term\n",
    "\n",
    "$$\n",
    "\\boldsymbol{E}_s(\\boldsymbol{X}) = \\sum\\limits_{(i, j) \\in \\mathcal{E}} \\Vert (\\boldsymbol{X}_i - \\boldsymbol{X}_j)\\boldsymbol{G} \\Vert _F^2\n",
    "$$\n"
   ]
  },
  {
   "cell_type": "markdown",
   "id": "departmental-alias",
   "metadata": {},
   "source": [
    "Landmark term\n",
    "\n",
    "$$\n",
    "\\boldsymbol{E}_l(\\boldsymbol{X}) = \\sum\\limits_{(\\boldsymbol{v}_i, \\mathbf{l}) \\in \\mathcal{L}} \\Vert (\\boldsymbol{X}_i\\mathbf{v}_i - \\boldsymbol{l})\\boldsymbol{G} \\Vert ^2\n",
    "$$\n"
   ]
  },
  {
   "cell_type": "markdown",
   "id": "typical-celebrity",
   "metadata": {},
   "source": [
    "Distance term with fixed correspondences $(\\boldsymbol{v}_i, \\boldsymbol{u}_i)$\n",
    "$$\n",
    "\\overline{\\boldsymbol{E}}(\\boldsymbol{X}) = \\sum\\limits_{\\boldsymbol{v}_i \\in \\mathcal{V}} w_i \\Vert \\boldsymbol{X}_i\\boldsymbol{v}_i - \\mathbf{u}_i \\Vert ^2\n",
    "$$"
   ]
  },
  {
   "cell_type": "markdown",
   "id": "inner-reduction",
   "metadata": {},
   "source": [
    "The fixed correspondences can be re-written on the following form\n",
    "\n",
    "$$\n",
    "\\overline{\\boldsymbol{E}}(\\boldsymbol{X}) = \\Vert \\boldsymbol{AX} - \\boldsymbol{B} \\Vert ^2_F\n",
    "$$"
   ]
  },
  {
   "cell_type": "markdown",
   "id": "posted-oakland",
   "metadata": {},
   "source": [
    "$\\boldsymbol{X}$ takes minimum value where the derivative is zero\n",
    "\n",
    "$$\n",
    "\\boldsymbol{X} = (\\boldsymbol{A}^T \\boldsymbol{A})^{−1}\\boldsymbol{A}^T \\boldsymbol{B}\n",
    "$$"
   ]
  },
  {
   "cell_type": "markdown",
   "id": "hindu-bleeding",
   "metadata": {},
   "source": [
    "### Algorithm\n",
    "* Initialise $\\boldsymbol{X}_0$\n",
    "* For each stiffness $\\alpha$\n",
    "  * Until $\\Vert \\boldsymbol{X}^j − \\boldsymbol{X}^{j−1} \\Vert < \\epsilon$\n",
    "    * Find preliminary correspondences for $\\mathcal{V}(X^{j−1})$\n",
    "    * Determine $\\boldsymbol{X}^j$ as the optimal deformation for the preliminary correspondences and $\\alpha_i$"
   ]
  },
  {
   "cell_type": "code",
   "execution_count": 19,
   "id": "august-problem",
   "metadata": {},
   "outputs": [
    {
     "ename": "ModuleNotFoundError",
     "evalue": "No module named 'scipy'",
     "output_type": "error",
     "traceback": [
      "\u001b[0;31m---------------------------------------------------------------------------\u001b[0m",
      "\u001b[0;31mModuleNotFoundError\u001b[0m                       Traceback (most recent call last)",
      "\u001b[0;32m<ipython-input-19-4a61a219f322>\u001b[0m in \u001b[0;36m<module>\u001b[0;34m\u001b[0m\n\u001b[0;32m----> 1\u001b[0;31m \u001b[0;32mfrom\u001b[0m \u001b[0mscipy\u001b[0m\u001b[0;34m.\u001b[0m\u001b[0msparse\u001b[0m \u001b[0;32mimport\u001b[0m \u001b[0mcsr_matrix\u001b[0m\u001b[0;34m\u001b[0m\u001b[0;34m\u001b[0m\u001b[0m\n\u001b[0m",
      "\u001b[0;31mModuleNotFoundError\u001b[0m: No module named 'scipy'"
     ]
    }
   ],
   "source": [
    "from scipy.sparse import csr_matrix\n"
   ]
  },
  {
   "cell_type": "code",
   "execution_count": null,
   "id": "southeast-breach",
   "metadata": {},
   "outputs": [],
   "source": []
  }
 ],
 "metadata": {
  "kernelspec": {
   "display_name": "Python 3",
   "language": "python",
   "name": "python3"
  },
  "language_info": {
   "codemirror_mode": {
    "name": "ipython",
    "version": 3
   },
   "file_extension": ".py",
   "mimetype": "text/x-python",
   "name": "python",
   "nbconvert_exporter": "python",
   "pygments_lexer": "ipython3",
   "version": "3.6.9"
  }
 },
 "nbformat": 4,
 "nbformat_minor": 5
}
