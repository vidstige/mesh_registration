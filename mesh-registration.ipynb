{
 "cells": [
  {
   "cell_type": "markdown",
   "id": "supreme-soundtrack",
   "metadata": {},
   "source": [
    "# Optimal Step Nonrigid ICP Algorithms for Surface Registration\n"
   ]
  },
  {
   "cell_type": "markdown",
   "id": "breathing-medium",
   "metadata": {},
   "source": [
    "## The problem\n",
    "Registering two surfaces means finding a mapping between a template surface and a target surface that describes\n",
    "the position of semantically corresponding points. This can\n",
    "be considered as warping the template onto the target."
   ]
  },
  {
   "cell_type": "code",
   "execution_count": 60,
   "id": "connected-headset",
   "metadata": {
    "scrolled": true
   },
   "outputs": [
    {
     "data": {
      "text/plain": [
       "array([[ 0,  1,  2,  3,  4,  5,  6,  7,  8,  9, 10, 11, 12, 13, 14, 15],\n",
       "       [ 1,  2,  3,  4,  5,  6,  7,  8,  9, 10, 11, 12, 13, 14, 15,  0]])"
      ]
     },
     "execution_count": 60,
     "metadata": {},
     "output_type": "execute_result"
    },
    {
     "data": {
      "image/png": "[encoded data removed]",
      "text/plain": [
       "<Figure size 432x288 with 1 Axes>"
      ]
     },
     "metadata": {
      "needs_background": "light"
     },
     "output_type": "display_data"
    }
   ],
   "source": [
    "%matplotlib inline\n",
    "import matplotlib.pyplot as plt\n",
    "import numpy as np\n",
    "scale = 1/300\n",
    "goal = scale * np.array([(51,184), (99,148), (121,127), (145,124), (179,144), (207,169), (251,207), (284,236), (331,257), (373,277), (426,303), (466,320), (517,333), (566,324), (597,315)])\n",
    "template = scale * np.array([(56,149), (66,125), (85,103), (114,82), (144,78), (173,87), (203,111), (234,141), (243,149), (288,174), (331,207), (367,223), (406,228), (464,225), (517,210), (545,178)])\n",
    "edges = np.vstack([\n",
    "    np.arange(len(template)),\n",
    "    np.roll(np.arange(len(template)), -1)\n",
    "]).T\n",
    "\n",
    "plt.plot(goal[:, 0], goal[:, 1], 'o', color='green', label='goal')\n",
    "plt.plot(template[:, 0], template[:, 1], 'o', color='blue', label='template')\n",
    "plt.legend()\n",
    "edges.T"
   ]
  },
  {
   "cell_type": "markdown",
   "id": "prostate-timber",
   "metadata": {},
   "source": [
    "A template mesh $\\mathcal{S} = (\\mathcal{V, E})$ with vertices $\\mathcal{V}$ and edges $\\mathcal{E}$ is to be deformed to match a target surface $\\mathcal{T}$. The target surface only needs to be defined in such a way that we can compute a distance from a point to it."
   ]
  },
  {
   "cell_type": "markdown",
   "id": "scheduled-violation",
   "metadata": {},
   "source": [
    "Each vertex $\\boldsymbol{v}_i$ of the template has an associated affine transformation $\\boldsymbol{X}_i$.\n",
    "\n",
    "$$\n",
    "\\boldsymbol{X} = [\\boldsymbol{X}_1 · · · \\boldsymbol{X}_n]^T\n",
    "$$"
   ]
  },
  {
   "cell_type": "markdown",
   "id": "adult-attack",
   "metadata": {},
   "source": [
    "### The objective function"
   ]
  },
  {
   "cell_type": "markdown",
   "id": "intellectual-northern",
   "metadata": {},
   "source": [
    "Minimize\n",
    "\n",
    "$$\n",
    "E(\\boldsymbol{X}) = E_d(\\boldsymbol{X}) + \\alpha E_s(\\boldsymbol{X}) + \\beta E_l(\\boldsymbol{X})\n",
    "$$\n",
    "\n",
    "Distance term\n",
    "\n",
    "$$\n",
    "E_d(\\boldsymbol{X}) = \\sum\\limits_{\\boldsymbol{v}_i \\in \\mathcal{V}} w_i \\operatorname{dist}^2(\\mathcal{T}, \\boldsymbol{X}_i\\boldsymbol{v}_i)\n",
    "$$\n",
    "\n",
    "Stiffness term\n",
    "\n",
    "$$\n",
    "E_s(\\boldsymbol{X}) = \\sum\\limits_{(i, j) \\in \\mathcal{E}} \\Vert (\\boldsymbol{X}_i - \\boldsymbol{X}_j)\\boldsymbol{G} \\Vert _F^2\n",
    "$$\n",
    "\n",
    "Landmark term\n",
    "\n",
    "$$\n",
    "E_l(\\boldsymbol{X}) = \\sum\\limits_{(\\boldsymbol{v}_i, \\boldsymbol{l}) \\in \\mathcal{L}} \\Vert (\\boldsymbol{X}_i\\boldsymbol{v}_i - \\boldsymbol{l})\\boldsymbol{G} \\Vert ^2\n",
    "$$"
   ]
  },
  {
   "cell_type": "markdown",
   "id": "framed-antenna",
   "metadata": {},
   "source": [
    "Computing closest point on target surface"
   ]
  },
  {
   "cell_type": "code",
   "execution_count": 61,
   "id": "persistent-asthma",
   "metadata": {},
   "outputs": [
    {
     "data": {
      "image/png": "[encoded data removed]",
      "text/plain": [
       "<Figure size 432x288 with 1 Axes>"
      ]
     },
     "metadata": {
      "needs_background": "light"
     },
     "output_type": "display_data"
    }
   ],
   "source": [
    "def closest_point(point, points):\n",
    "    \"\"\"Naive closest point\"\"\"\n",
    "    dist2 = np.sum((np.asarray(points) - point)**2, axis=1)\n",
    "    index = np.argmin(dist2)\n",
    "    return points[index]\n",
    "\n",
    "\n",
    "def find_correspondances(pts, goal):\n",
    "    return [closest_point(xv, goal) for xv in pts]\n",
    "\n",
    "for v, u in zip(template, find_correspondances(template, goal)):\n",
    "    plt.plot([v[0], u[0]], [v[1], u[1]], color='black')\n",
    "\n",
    "plt.plot(goal[:, 0], goal[:, 1], 'o', color='green', label='goal')\n",
    "plt.plot(template[:, 0], template[:, 1], 'o', color='blue', label='template')\n",
    "plt.legend(); None"
   ]
  },
  {
   "cell_type": "markdown",
   "id": "periodic-client",
   "metadata": {},
   "source": [
    "Distance term with fixed correspondences $(\\boldsymbol{v}_i, \\boldsymbol{u}_i)$\n",
    "$$\n",
    "\\overline{E}_d(\\boldsymbol{X}) = \\sum\\limits_{\\boldsymbol{v}_i \\in \\mathcal{V}} w_i \\Vert \\boldsymbol{X}_i\\boldsymbol{v}_i - \\mathbf{u}_i \\Vert ^2\n",
    "$$"
   ]
  },
  {
   "cell_type": "markdown",
   "id": "joint-variable",
   "metadata": {},
   "source": [
    "#### Re-arranging the distance term\n",
    "Defining $\\boldsymbol{W} = \\operatorname{diag}(w_1, \\dots, w_n)$ we can write it like so\n",
    "$$\n",
    "\\overline{E}_d(\\boldsymbol{X}) = \\left\\Vert (\\boldsymbol{W} \\otimes \\boldsymbol{I}_3) \\left(\n",
    "\\begin{bmatrix}\n",
    "\\boldsymbol{X}_1 & & \\\\\n",
    "& \\ddots & \\\\\n",
    "& & \\boldsymbol{X}_n \n",
    "\\end{bmatrix}\n",
    "\\begin{bmatrix} \\boldsymbol{v}_1 \\\\ \\vdots \\\\ \\boldsymbol{v}_n \\end{bmatrix}\n",
    "-\n",
    "\\begin{bmatrix} \\boldsymbol{u}_1 \\\\ \\vdots \\\\ \\boldsymbol{u}_n \\end{bmatrix}\n",
    "\\right) \\right\\Vert ^2\n",
    "$$\n",
    "\n",
    "This is unpractical to differentiate, but it can be arranged if we define\n",
    "$\\boldsymbol{U} = \\begin{bmatrix} u_1 \\dots u_n \\end{bmatrix}$\n",
    "and\n",
    "$$\n",
    "D = \\begin{bmatrix}\n",
    "\\boldsymbol{v}^\\top_1 & & \\\\\n",
    "& \\ddots & \\\\\n",
    "& & \\boldsymbol{v}^\\top_n\n",
    "\\end{bmatrix}\n",
    "$$\n",
    "\n",
    "It's possible to write as\n",
    "$$\n",
    "\\overline{E}_d(\\boldsymbol{X}) = \\left\\Vert \\boldsymbol{W}(\\boldsymbol{DX} - \\boldsymbol{U}) \\right\\Vert_F^2\n",
    "$$"
   ]
  },
  {
   "cell_type": "markdown",
   "id": "conscious-cursor",
   "metadata": {},
   "source": [
    "#### Re-arranging the stiffness term\n",
    "The node-arc incidence matrix $M$ has one row for each edge and one column for each node. The non-zero elements of row $r$ of M are $M_{ri} = -1$ and $M_{rj} = 1$ edge number $r$ connect the nodes $(i, j)$\n",
    "\n",
    "\n"
   ]
  },
  {
   "cell_type": "code",
   "execution_count": 59,
   "id": "emotional-creature",
   "metadata": {},
   "outputs": [
    {
     "data": {
      "text/plain": [
       "array([[-1.,  1.,  0.,  0.,  0.,  0.,  0.],\n",
       "       [ 0., -1.,  1.,  0.,  0.,  0.,  0.],\n",
       "       [ 0.,  0., -1.,  1.,  0.,  0.,  0.],\n",
       "       [ 0.,  0.,  0., -1.,  1.,  0.,  0.],\n",
       "       [ 0.,  0.,  0.,  0., -1.,  1.,  0.],\n",
       "       [ 0.,  0.,  0.,  0.,  0., -1.,  1.]])"
      ]
     },
     "execution_count": 59,
     "metadata": {},
     "output_type": "execute_result"
    }
   ],
   "source": [
    "def node_incidence(edges):\n",
    "    M = np.zeros((len(edges), np.max(edges) + 1))\n",
    "    for r, (i, j) in enumerate(edges):\n",
    "        M[r, i] = -1\n",
    "        M[r, j] = 1\n",
    "    return M\n",
    "\n",
    "node_incidence(edges[:6])"
   ]
  },
  {
   "cell_type": "markdown",
   "id": "physical-oakland",
   "metadata": {},
   "source": [
    "$$\n",
    "\\overline{E}_s(\\boldsymbol{X}) = \\left\\Vert (\\boldsymbol{M} \\otimes I)\\boldsymbol{X} \\right\\Vert _F^2\n",
    "$$\n",
    "Instead of $\\boldsymbol{I}$, a weighted matrix $\\boldsymbol{G} = \\operatorname{diag}(1, 1, 1, \\lambda)$ can be used to penalize rotations or translations more."
   ]
  },
  {
   "cell_type": "markdown",
   "id": "closing-hawaiian",
   "metadata": {},
   "source": [
    "Combining it all we end up with \n",
    "$$\n",
    "\\overline{E}(\\boldsymbol{X}) = \\left\\Vert\n",
    "\\begin{bmatrix}\n",
    "\\alpha \\boldsymbol{M} \\otimes \\boldsymbol{I} \\\\ \\boldsymbol{WD}\n",
    "\\end{bmatrix} \\boldsymbol{X}\n",
    "-\n",
    "\\begin{bmatrix}\n",
    "\\boldsymbol{0} \\\\ \\boldsymbol{WU}\n",
    "\\end{bmatrix}\n",
    "\\right\\Vert _F^2\n",
    "$$\n",
    "\n",
    "And finally, the combined objective function with fixed correspondences can be re-written on the following form.\n",
    "$$\n",
    "\\overline{E}(\\boldsymbol{X}) = \\Vert \\boldsymbol{AX} - \\boldsymbol{B} \\Vert ^2_F\n",
    "$$"
   ]
  },
  {
   "cell_type": "markdown",
   "id": "beautiful-pioneer",
   "metadata": {},
   "source": [
    "And now it's easier to find the derivative\n",
    "$$\n",
    "\\nabla_\\boldsymbol{X} \\overline{E}(\\boldsymbol{X}) = 2\\boldsymbol{A}^\\top(\\boldsymbol{AX} − \\boldsymbol{B})\n",
    "$$\n",
    "\n",
    "For any local minima $\\nabla_\\boldsymbol{X} \\overline{E}(\\boldsymbol{X}) = \\boldsymbol{0}$ or\n",
    "$$\n",
    "2\\boldsymbol{A}^\\top(\\boldsymbol{AX} − \\boldsymbol{B}) = \\boldsymbol{0}\n",
    "$$\n",
    "\n",
    "Solving for $\\boldsymbol{X}$ gets us\n",
    "\n",
    "$$\n",
    "\\boldsymbol{X} = (\\boldsymbol{A}^T \\boldsymbol{A})^{−1}\\boldsymbol{A}^T \\boldsymbol{B}\n",
    "$$\n",
    "\n",
    "Now we can solve for an exact solution $\\boldsymbol{X}$ and recover the transforms."
   ]
  },
  {
   "cell_type": "markdown",
   "id": "immediate-criminal",
   "metadata": {},
   "source": [
    "### Algorithm\n",
    "* Initialise $\\boldsymbol{X}_0$\n",
    "* For each stiffness $\\alpha$\n",
    "  * Until $\\Vert \\boldsymbol{X}^j − \\boldsymbol{X}^{j−1} \\Vert < \\epsilon$\n",
    "    * Find preliminary correspondences for $\\mathcal{V}(X^{j−1})$\n",
    "    * Determine $\\boldsymbol{X}^j$ as the optimal deformation for the preliminary correspondences and $\\alpha_i$"
   ]
  },
  {
   "cell_type": "code",
   "execution_count": 68,
   "id": "saving-breath",
   "metadata": {},
   "outputs": [
    {
     "data": {
      "image/png": "[encoded data removed]",
      "text/plain": [
       "<Figure size 432x288 with 1 Axes>"
      ]
     },
     "metadata": {
      "needs_background": "light"
     },
     "output_type": "display_data"
    }
   ],
   "source": [
    "from scipy.sparse import csr_matrix\n",
    "from scipy.sparse.linalg import spsolve\n",
    "import matplotlib\n",
    "\n",
    "\n",
    "class Eq:\n",
    "    def __init__(self):\n",
    "        self.row_indices = []\n",
    "        self.column_indices = []\n",
    "        self.values = []\n",
    "        self.rhs = []\n",
    "    \n",
    "    def add_equation(self, w, rhs, pairs):\n",
    "        row = len(self.rhs)\n",
    "        for column, value in pairs:\n",
    "            self.row_indices.append(row)\n",
    "            self.column_indices.append(column)\n",
    "            self.values.append(w * value)\n",
    "        self.rhs.append(w * rhs)\n",
    "    \n",
    "    def matrices(self):\n",
    "        return csr_matrix((self.values, (self.row_indices, self.column_indices))), np.array(self.rhs)\n",
    " \n",
    "\n",
    "def parameter_index(i, row, column):\n",
    "    return 6 * i + 3 * row + column\n",
    "\n",
    "\n",
    "def step(template, edges, us, stiffness, distance_weight=1):\n",
    "    eq = Eq()\n",
    "    # distance costs\n",
    "    for i, (v, u) in enumerate(zip(template, us)):\n",
    "        for dim in range(2):\n",
    "            eq.add_equation(distance_weight / 2, u[dim], [\n",
    "                (parameter_index(i, dim, 0), v[0]),\n",
    "                (parameter_index(i, dim, 1), v[1]),\n",
    "                (parameter_index(i, dim, 2), 1)])\n",
    "\n",
    "    # stiffness costs\n",
    "    for e0, e1 in edges:\n",
    "        for row in range(2):\n",
    "            for column in range(3):\n",
    "                eq.add_equation(stiffness, 1, [\n",
    "                    (parameter_index(e0, row, column), +1),\n",
    "                    (parameter_index(e1, row, column), -1)\n",
    "                ])\n",
    "\n",
    "    # solve\n",
    "    A, b = eq.matrices()\n",
    "    X = spsolve(A.T * A, A.T * b)\n",
    "    \n",
    "    # transform vertices\n",
    "    for i, v in enumerate(template):\n",
    "        for d in range(2):\n",
    "            pts[i, d] = \\\n",
    "                X[parameter_index(i, d, 0)] * v[0] + \\\n",
    "                X[parameter_index(i, d, 1)] * v[1] + \\\n",
    "                X[parameter_index(i, d, 2)]\n",
    "    return pts\n",
    "\n",
    "n = 10\n",
    "pts = np.copy(template)\n",
    "\n",
    "cmap = matplotlib.cm.get_cmap('plasma')\n",
    "plt.plot(goal[:, 0], goal[:, 1], 'o', color='green', label='goal')\n",
    "plt.plot(template[:, 0], template[:, 1], 'o', color='blue', label='template')\n",
    "for i in range(10):\n",
    "    t = i / n\n",
    "    stiffness = 1 - t\n",
    "    us = find_correspondances(pts, goal)\n",
    "    pts = step(template, edges, us, stiffness=stiffness, distance_weight=0.1)\n",
    "    plt.plot(pts[:, 0], pts[:, 1], 'o', color=cmap(t), alpha=1)\n",
    "plt.legend(); None"
   ]
  },
  {
   "cell_type": "markdown",
   "id": "electrical-temperature",
   "metadata": {},
   "source": [
    "## Let's leave this notebook\n",
    "* 3D time!\n",
    "* Nostaliga time"
   ]
  },
  {
   "cell_type": "markdown",
   "id": "historic-specialist",
   "metadata": {},
   "source": [
    "## Questions?"
   ]
  },
  {
   "cell_type": "markdown",
   "id": "specified-spell",
   "metadata": {},
   "source": [
    "## Thank you!"
   ]
  },
  {
   "cell_type": "code",
   "execution_count": null,
   "id": "intermediate-porter",
   "metadata": {},
   "outputs": [],
   "source": []
  }
 ],
 "metadata": {
  "kernelspec": {
   "display_name": "Python 3",
   "language": "python",
   "name": "python3"
  },
  "language_info": {
   "codemirror_mode": {
    "name": "ipython",
    "version": 3
   },
   "file_extension": ".py",
   "mimetype": "text/x-python",
   "name": "python",
   "nbconvert_exporter": "python",
   "pygments_lexer": "ipython3",
   "version": "3.6.9"
  }
 },
 "nbformat": 4,
 "nbformat_minor": 5
}
