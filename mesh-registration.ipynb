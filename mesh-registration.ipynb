{
 "cells": [
  {
   "cell_type": "markdown",
   "id": "acute-former",
   "metadata": {},
   "source": [
    "The problem"
   ]
  },
  {
   "cell_type": "code",
   "execution_count": 37,
   "id": "ceramic-making",
   "metadata": {
    "scrolled": true
   },
   "outputs": [
    {
     "data": {
      "image/png": "[encoded data removed]",
      "text/plain": [
       "<Figure size 432x288 with 1 Axes>"
      ]
     },
     "metadata": {},
     "output_type": "display_data"
    }
   ],
   "source": [
    "%matplotlib inline\n",
    "import matplotlib.pyplot as plt\n",
    "plt.style.use('seaborn-whitegrid')\n",
    "import numpy as np\n",
    "scale = 1/300\n",
    "goal = scale * np.array([(51,184), (99,148), (121,127), (145,124), (179,144), (207,169), (251,207), (284,236), (331,257), (373,277), (426,303), (466,320), (517,333), (566,324), (597,315)])\n",
    "template = scale * np.array([(56,149), (66,125), (85,103), (114,82), (144,78), (173,87), (203,111), (234,141), (243,149), (288,174), (331,207), (367,223), (406,228), (464,225), (517,210), (545,178)])\n",
    "edges = np.vstack([\n",
    "    np.arange(len(template)),\n",
    "    np.roll(np.arange(len(template)), -1)\n",
    "]).T\n",
    "\n",
    "plt.plot(goal[:, 0], goal[:, 1], 'o', color='red');\n",
    "plt.plot(template[:, 0], template[:, 1], 'o', color='blue');\n",
    "\n"
   ]
  },
  {
   "cell_type": "markdown",
   "id": "swiss-robinson",
   "metadata": {},
   "source": [
    "A template mesh $\\mathcal{S} = (\\mathcal{V, E})$ with vertices $\\mathcal{V}$ and edges $\\mathcal{E}$ is to be deformed to match a target surface $\\mathcal{T}$. The target surface needs to be defined in such a way that we can compute a distance from a point to it."
   ]
  },
  {
   "cell_type": "markdown",
   "id": "turned-consolidation",
   "metadata": {},
   "source": [
    "$\\mathbf{X} = [\\mathbf{X}_1 · · · \\mathbf{X}_n]^T$"
   ]
  },
  {
   "cell_type": "markdown",
   "id": "fleet-member",
   "metadata": {},
   "source": [
    "### The objective function"
   ]
  },
  {
   "cell_type": "markdown",
   "id": "neither-water",
   "metadata": {},
   "source": [
    "Minimize\n",
    "\n",
    "$$\n",
    "\\overline{\\boldsymbol{E}}(\\boldsymbol{X}) = \\overline{\\boldsymbol{E}}_d(\\boldsymbol{X}) + α\\boldsymbol{E}_s(\\boldsymbol{X}) + β\\boldsymbol{E}_l(\\boldsymbol{X})\n",
    "$$"
   ]
  },
  {
   "cell_type": "markdown",
   "id": "valid-hours",
   "metadata": {},
   "source": [
    "Distance term\n",
    "\n",
    "$$\n",
    "\\boldsymbol{E}_d(\\boldsymbol{X}) = \\sum\\limits_{\\boldsymbol{v}_i \\in \\mathcal{V}} w_i \\operatorname{dist}^2(\\mathcal{T}, \\boldsymbol{X}_i\\boldsymbol{v}_i)\n",
    "$$"
   ]
  },
  {
   "cell_type": "markdown",
   "id": "caroline-wings",
   "metadata": {},
   "source": [
    "Stiffness term\n",
    "\n",
    "$$\n",
    "\\boldsymbol{E}_s(\\boldsymbol{X}) = \\sum\\limits_{(i, j) \\in \\mathcal{E}} \\Vert (\\boldsymbol{X}_i - \\boldsymbol{X}_j)\\boldsymbol{G} \\Vert _F^2\n",
    "$$\n"
   ]
  },
  {
   "cell_type": "markdown",
   "id": "union-petroleum",
   "metadata": {},
   "source": [
    "Landmark term\n",
    "\n",
    "$$\n",
    "\\boldsymbol{E}_l(\\boldsymbol{X}) = \\sum\\limits_{(\\boldsymbol{v}_i, \\mathbf{l}) \\in \\mathcal{L}} \\Vert (\\boldsymbol{X}_i\\mathbf{v}_i - \\boldsymbol{l})\\boldsymbol{G} \\Vert ^2\n",
    "$$\n"
   ]
  },
  {
   "cell_type": "markdown",
   "id": "scenic-indian",
   "metadata": {},
   "source": [
    "Distance term with fixed correspondences $(\\boldsymbol{v}_i, \\boldsymbol{u}_i)$\n",
    "$$\n",
    "\\overline{\\boldsymbol{E}}(\\boldsymbol{X}) = \\sum\\limits_{\\boldsymbol{v}_i \\in \\mathcal{V}} w_i \\Vert \\boldsymbol{X}_i\\boldsymbol{v}_i - \\mathbf{u}_i \\Vert ^2\n",
    "$$"
   ]
  },
  {
   "cell_type": "markdown",
   "id": "affecting-therapist",
   "metadata": {},
   "source": [
    "The fixed correspondences can be re-written on the following form\n",
    "\n",
    "$$\n",
    "\\overline{\\boldsymbol{E}}(\\boldsymbol{X}) = \\Vert \\boldsymbol{AX} - \\boldsymbol{B} \\Vert ^2_F\n",
    "$$"
   ]
  },
  {
   "cell_type": "markdown",
   "id": "improving-brass",
   "metadata": {},
   "source": [
    "$\\boldsymbol{X}$ takes minimum value where the derivative is zero\n",
    "\n",
    "$$\n",
    "\\boldsymbol{X} = (\\boldsymbol{A}^T \\boldsymbol{A})^{−1}\\boldsymbol{A}^T \\boldsymbol{B}\n",
    "$$"
   ]
  },
  {
   "cell_type": "markdown",
   "id": "convertible-change",
   "metadata": {},
   "source": [
    "### Algorithm\n",
    "* Initialise $\\boldsymbol{X}_0$\n",
    "* For each stiffness $\\alpha$\n",
    "  * Until $\\Vert \\boldsymbol{X}^j − \\boldsymbol{X}^{j−1} \\Vert < \\epsilon$\n",
    "    * Find preliminary correspondences for $\\mathcal{V}(X^{j−1})$\n",
    "    * Determine $\\boldsymbol{X}^j$ as the optimal deformation for the preliminary correspondences and $\\alpha_i$"
   ]
  },
  {
   "cell_type": "code",
   "execution_count": 92,
   "id": "provincial-lotus",
   "metadata": {},
   "outputs": [
    {
     "data": {
      "text/plain": [
       "[<matplotlib.lines.Line2D at 0x7f16f7427780>]"
      ]
     },
     "execution_count": 92,
     "metadata": {},
     "output_type": "execute_result"
    },
    {
     "data": {
      "image/png": "[encoded data removed]",
      "text/plain": [
       "<Figure size 432x288 with 1 Axes>"
      ]
     },
     "metadata": {},
     "output_type": "display_data"
    }
   ],
   "source": [
    "from scipy.sparse import csr_matrix\n",
    "from scipy.sparse.linalg import spsolve\n",
    "\n",
    "\n",
    "def closest_point(point, points):\n",
    "    \"\"\"Naive closest point\"\"\"\n",
    "    dist2 = np.sum((np.asarray(points) - point)**2, axis=1)\n",
    "    index = np.argmin(dist2)\n",
    "    return points[index]\n",
    "\n",
    "\n",
    "class Eq:\n",
    "    def __init__(self):\n",
    "        self.row_indices = []\n",
    "        self.column_indices []\n",
    "        self.values = []\n",
    "        self.rhs = []\n",
    "    \n",
    "    def add_equation(self, w, rhs, pairs):\n",
    "        row = len(self.rhs)\n",
    "        for column, value in pairs:\n",
    "            self.row_indices.append(row)\n",
    "            self.column_indices.append(column)\n",
    "            self.values = w * value\n",
    "            self.triplets.append((row, column, w * value))\n",
    "        self.rhs.append(w * rhs)\n",
    "    \n",
    "    def matrices(self):\n",
    "        row_ind = [r for r, _, _ in self.triplets]\n",
    "        col_ind = [c for _, c, _ in self.triplets]\n",
    "        data = [d for _, _, d in self.triplets]\n",
    "        return csr_matrix((data, (row_ind, col_ind))), np.array(self.rhs)\n",
    " \n",
    "\n",
    "def parameter_index(i, row, column):\n",
    "    return 6 * i + 3 * row + column\n",
    "\n",
    "\n",
    "def step(template, goal, pts, stiffness):\n",
    "    eq = Eq()\n",
    "    # distance costs\n",
    "    dw = 0.1  # distance weight\n",
    "    for i, v in enumerate(template):\n",
    "        g = closest_point(v, goal)\n",
    "        plt.plot([v[0], g[0]], [v[1], g[1]], color='black')\n",
    "        for dim in range(2):\n",
    "            eq.add_equation(dw / 2, g[dim], [\n",
    "                (parameter_index(i, dim, 0), v[0]),\n",
    "                (parameter_index(i, dim, 1), v[1]),\n",
    "                (parameter_index(i, dim, 2), 1)])\n",
    "\n",
    "    # stiffness costs\n",
    "    for e0, e1 in edges:\n",
    "        for row in range(2):\n",
    "            for col in range(3):\n",
    "                eq.add_equation(stiffness, 1, [\n",
    "                    (parameter_index(e0, row, col), +1),\n",
    "                    (parameter_index(e1, row, col), -1)\n",
    "                ])\n",
    "\n",
    "    A, b = eq.matrices()\n",
    "    X = spsolve(A.T * A, A.T * b)\n",
    "    for i, v in enumerate(template):\n",
    "        for d in range(2):\n",
    "            pts[i, d] = \\\n",
    "                X[parameter_index(i, d, 0)] * v[0] + \\\n",
    "                X[parameter_index(i, d, 1)] * v[1] + \\\n",
    "                X[parameter_index(i, d, 2)]\n",
    "    return pts\n",
    "\n",
    "\n",
    "pts = np.copy(template)\n",
    "#for i in range(5):\n",
    "#    plt.plot(pts[:, 0], pts[:, 1], 'o', color='orange')\n",
    "#    t = 1 - (i+1) / 10\n",
    "#    stiffness = t\n",
    "#    print(stiffness)\n",
    "pts = step(template, goal, pts, stiffness=1)\n",
    "    \n",
    "plt.plot(goal[:, 0], goal[:, 1], 'o', color='red');\n",
    "plt.plot(template[:, 0], template[:, 1], 'o', color='blue')\n",
    "plt.plot(pts[:, 0], pts[:, 1], 'o', color='orange')\n"
   ]
  },
  {
   "cell_type": "code",
   "execution_count": null,
   "id": "statewide-illustration",
   "metadata": {},
   "outputs": [],
   "source": []
  }
 ],
 "metadata": {
  "kernelspec": {
   "display_name": "Python 3",
   "language": "python",
   "name": "python3"
  },
  "language_info": {
   "codemirror_mode": {
    "name": "ipython",
    "version": 3
   },
   "file_extension": ".py",
   "mimetype": "text/x-python",
   "name": "python",
   "nbconvert_exporter": "python",
   "pygments_lexer": "ipython3",
   "version": "3.6.9"
  }
 },
 "nbformat": 4,
 "nbformat_minor": 5
}
